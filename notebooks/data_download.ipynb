{
 "cells": [
  {
   "cell_type": "markdown",
   "metadata": {},
   "source": [
    "# Data Download #\n",
    "This notebook downloads data for the other notebooks in this folder using Python `wget`.  \n",
    "The data is downloaded to  `/opt/workspace/datain/amazon-reviews` which is on the *shared-workspace* Docker volume."
   ]
  },
  {
   "cell_type": "code",
   "execution_count": 1,
   "metadata": {},
   "outputs": [],
   "source": [
    "import wget\n",
    "import gzip\n",
    "import shutil\n",
    "import os.path\n",
    "from os import path\n",
    "import json\n",
    "import os"
   ]
  },
  {
   "cell_type": "markdown",
   "metadata": {},
   "source": [
    "#### Amazon All Beauty Reviews ####\n",
    "Download Amazon All Beauty JSON from [Amazon product data](http://deepyeti.ucsd.edu/jianmo/amazon/index.html)\n"
   ]
  },
  {
   "cell_type": "code",
   "execution_count": 2,
   "metadata": {},
   "outputs": [],
   "source": [
    "if not path.exists('/opt/workspace/notebooks/data'):\n",
    "    mkdir -p /opt/workspace/notebooks/data"
   ]
  },
  {
   "cell_type": "code",
   "execution_count": null,
   "metadata": {},
   "outputs": [],
   "source": [
    "file_name = 'Movies_and_TV.json'\n",
    "if not path.exists('/opt/workspace/notebooks/data/{}'.format(file_name)):\n",
    "    wget.download('http://deepyeti.ucsd.edu/jianmo/amazon/categoryFiles/{}.gz'.format(file_name))\n",
    "    with gzip.open('{}.gz'.format(file_name), 'rb') as f_in:\n",
    "        with open('./data/{}'.format(file_name), 'wb') as f_out:\n",
    "            shutil.copyfileobj(f_in, f_out)      "
   ]
  },
  {
   "cell_type": "code",
   "execution_count": null,
   "metadata": {},
   "outputs": [],
   "source": [
    "with open('/opt/workspace/notebooks/data/Movies_and_TV.json', 'r', encoding='utf-8') as f1:\n",
    "    ll = [json.loads(line.strip()) for line in f1.readlines()]\n",
    "\n",
    "    print(len(ll))\n",
    "\n",
    "    size_of_the_split=20000\n",
    "    total = len(ll) // size_of_the_split\n",
    "\n",
    "    print(total+1)\n",
    "    if not path.exists('/opt/workspace/notebooks/data/data_split'):\n",
    "        mkdir -p /opt/workspace/notebooks/data\n",
    "    for i in range(total+1):\n",
    "        json.dump(ll[i * size_of_the_split:(i + 1) * size_of_the_split], open(\n",
    "            \"/opt/workspace/notebooks/data/data_split\" + str(i+1) + \".json\", 'w',\n",
    "            encoding='utf8'), ensure_ascii=False, indent=True)"
   ]
  }
 ],
 "metadata": {
  "kernelspec": {
   "display_name": "Python 3 (ipykernel)",
   "language": "python",
   "name": "python3"
  },
  "language_info": {
   "codemirror_mode": {
    "name": "ipython",
    "version": 3
   },
   "file_extension": ".py",
   "mimetype": "text/x-python",
   "name": "python",
   "nbconvert_exporter": "python",
   "pygments_lexer": "ipython3",
   "version": "3.7.9"
  }
 },
 "nbformat": 4,
 "nbformat_minor": 4
}
