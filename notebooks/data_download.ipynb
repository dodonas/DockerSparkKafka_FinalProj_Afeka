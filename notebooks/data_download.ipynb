{
 "cells": [
  {
   "cell_type": "markdown",
   "metadata": {},
   "source": [
    "# Data Download #\n",
    "This notebook downloads data for the other notebooks in this folder using Python `wget`.  \n",
    "The data is downloaded to  `/opt/workspace/datain/amazon-reviews` which is on the *shared-workspace* Docker volume."
   ]
  },
  {
   "cell_type": "code",
   "execution_count": 1,
   "metadata": {},
   "outputs": [],
   "source": [
    "import wget"
   ]
  },
  {
   "cell_type": "markdown",
   "metadata": {},
   "source": [
    "#### Amazon Instant Video Reviews ####\n",
    "Download Amazon Instant Video from [Amazon product data](https://jmcauley.ucsd.edu/data/amazon/)\n"
   ]
  },
  {
   "cell_type": "code",
   "execution_count": 2,
   "metadata": {},
   "outputs": [],
   "source": [
    "mkdir -p /opt/workspace/datain/amazon-reviews"
   ]
  },
  {
   "cell_type": "code",
   "execution_count": null,
   "metadata": {},
   "outputs": [],
   "source": [
    "target_path = '/opt/workspace/datain/amazon-reviews'\n",
    "\n",
    "wget.download('http://snap.stanford.edu/data/amazon/productGraph/categoryFiles/reviews_Amazon_Instant_Video_5.json.gz'\n",
    "                   , out=target_path)        "
   ]
  },
  {
   "cell_type": "code",
   "execution_count": null,
   "metadata": {},
   "outputs": [],
   "source": [
    "import gzip\n",
    "import pandas as pd\n",
    "\n",
    "pd.set_option('display.max_columns', 500)\n",
    "\n",
    "df = pd.read_json(\n",
    "        '/opt/workspace/datain/amazon-reviews/reviews_Amazon_Instant_Video_5.json.gz',\n",
    "        lines=True,\n",
    "        compression='gzip'\n",
    "    )\n",
    "\n",
    "df.head(5)"
   ]
  }
 ],
 "metadata": {
  "kernelspec": {
   "display_name": "Python 3 (ipykernel)",
   "language": "python",
   "name": "python3"
  },
  "language_info": {
   "codemirror_mode": {
    "name": "ipython",
    "version": 3
   },
   "file_extension": ".py",
   "mimetype": "text/x-python",
   "name": "python",
   "nbconvert_exporter": "python",
   "pygments_lexer": "ipython3",
   "version": "3.7.9"
  }
 },
 "nbformat": 4,
 "nbformat_minor": 4
}
