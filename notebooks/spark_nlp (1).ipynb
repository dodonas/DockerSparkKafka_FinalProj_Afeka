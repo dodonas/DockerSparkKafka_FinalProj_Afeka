{
 "cells": [
  {
   "cell_type": "code",
   "execution_count": null,
   "id": "2d0ece64",
   "metadata": {},
   "outputs": [],
   "source": [
    "import pandas as pd\n",
    "import numpy as np\n",
    "import json\n",
    "from pyspark.ml import Pipeline\n",
    "from pyspark.sql import SparkSession\n",
    "import pyspark.sql.functions as F\n",
    "from sparknlp.annotator import *\n",
    "from sparknlp.base import *\n",
    "import sparknlp\n",
    "from sparknlp.pretrained import PretrainedPipeline"
   ]
  },
  {
   "cell_type": "code",
   "execution_count": null,
   "id": "28c1b082",
   "metadata": {},
   "outputs": [],
   "source": [
    "sparknlp.start()"
   ]
  },
  {
   "cell_type": "code",
   "execution_count": null,
   "id": "87b9e33d",
   "metadata": {},
   "outputs": [],
   "source": [
    "MODEL_NAME = 'classifierdl_use_emotion'"
   ]
  },
  {
   "cell_type": "code",
   "execution_count": null,
   "id": "8a746972",
   "metadata": {},
   "outputs": [],
   "source": [
    "text_list = [\n",
    "            \"\"\"I am SO happy the news came out in time for my birthday this weekend! My inner 7-year-old cannot WAIT!\"\"\",\n",
    "            \"\"\"That moment when you see your friend in a commercial. Hahahaha!\"\"\",\n",
    "            \"\"\"My soul has just been pierced by the most evil look from @rickosborneorg. A mini panic attack &amp; chill in bones followed soon after.\"\"\",\n",
    "            \"\"\"For some reason I woke up thinkin it was Friday then I got to school and realized its really Monday -_-\"\"\",\n",
    "            \"\"\"I'd probably explode into a jillion pieces from the inablility to contain all of my if I had a Whataburger patty melt right now. #drool\"\"\",\n",
    "            \"\"\"These are not emotions. They are simply irrational thoughts feeding off of an emotion\"\"\",\n",
    "            \"\"\"Found out im gonna be with sarah bo barah in ny for one day!!! Eggcitement :)\"\"\",\n",
    "            \"\"\"That awkward moment when you find a perfume box full of sensors!\"\"\",\n",
    "            \"\"\"Just home from group celebration - dinner at Trattoria Gianni, then Hershey Felder's performance - AMAZING!!\"\"\",\n",
    "            \"\"\"Nooooo! My dad turned off the internet so I can't listen to band music!\"\"\",\n",
    "            ]"
   ]
  },
  {
   "cell_type": "markdown",
   "id": "9b219b2a",
   "metadata": {},
   "source": [
    "### Define Spark NLP pipeline"
   ]
  },
  {
   "cell_type": "code",
   "execution_count": null,
   "id": "0ad084f8",
   "metadata": {},
   "outputs": [],
   "source": [
    "documentAssembler = DocumentAssembler()\\\n",
    "    .setInputCol(\"text\")\\\n",
    "    .setOutputCol(\"document\")\n",
    "    \n",
    "use = UniversalSentenceEncoder.pretrained(name=\"tfhub_use\", lang=\"en\")\\\n",
    " .setInputCols([\"document\"])\\\n",
    " .setOutputCol(\"sentence_embeddings\")\n",
    "\n",
    "\n",
    "sentimentdl = ClassifierDLModel.pretrained(name=MODEL_NAME)\\\n",
    "    .setInputCols([\"sentence_embeddings\"])\\\n",
    "    .setOutputCol(\"sentiment\")\n",
    "\n",
    "nlpPipeline = Pipeline(\n",
    "      stages = [\n",
    "          documentAssembler,\n",
    "          use,\n",
    "          sentimentdl\n",
    "      ])"
   ]
  },
  {
   "cell_type": "markdown",
   "id": "149008dd",
   "metadata": {},
   "source": [
    "### Run the pipeline"
   ]
  },
  {
   "cell_type": "code",
   "execution_count": null,
   "id": "188399f0",
   "metadata": {},
   "outputs": [],
   "source": [
    "empty_df = spark.createDataFrame([['']]).toDF(\"text\")\n",
    "\n",
    "pipelineModel = nlpPipeline.fit(empty_df)\n",
    "df = spark.createDataFrame(pd.DataFrame({\"text\":text_list}))\n",
    "result = pipelineModel.transform(df)"
   ]
  },
  {
   "cell_type": "code",
   "execution_count": null,
   "id": "b26609a6",
   "metadata": {},
   "outputs": [],
   "source": [
    "result.select(F.explode(F.arrays_zip('document.result', 'sentiment.result')).alias(\"cols\")) \\\n",
    ".select(F.expr(\"cols['0']\").alias(\"document\"),\n",
    "        F.expr(\"cols['1']\").alias(\"sentiment\")).show(truncate=False)"
   ]
  },
  {
   "cell_type": "code",
   "execution_count": null,
   "id": "46b284ce",
   "metadata": {},
   "outputs": [],
   "source": []
  }
 ],
 "metadata": {
  "kernelspec": {
   "display_name": "Python 3",
   "language": "python",
   "name": "python3"
  },
  "language_info": {
   "codemirror_mode": {
    "name": "ipython",
    "version": 3
   },
   "file_extension": ".py",
   "mimetype": "text/x-python",
   "name": "python",
   "nbconvert_exporter": "python",
   "pygments_lexer": "ipython3",
   "version": "3.8.8"
  }
 },
 "nbformat": 4,
 "nbformat_minor": 5
}
