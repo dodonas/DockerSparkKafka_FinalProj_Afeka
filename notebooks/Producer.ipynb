{
 "cells": [
  {
   "cell_type": "code",
   "execution_count": 1,
   "id": "2ebfca47",
   "metadata": {},
   "outputs": [],
   "source": [
    "from pyspark.sql import SparkSession\n",
    "from pyspark.sql import Row\n",
    "from pyspark.sql.types import *\n",
    "import time\n",
    "import os\n",
    "import sys\n",
    "from confluent_kafka import Producer\n",
    "\n",
    "nb_dir = os.path.split(os.getcwd())[0]\n",
    "if nb_dir not in sys.path:\n",
    "    sys.path.append(nb_dir)\n",
    "\n",
    "from conf import conf"
   ]
  },
  {
   "cell_type": "code",
   "execution_count": 2,
   "id": "22a1f788",
   "metadata": {},
   "outputs": [],
   "source": [
    "spark = SparkSession \\\n",
    "        .builder \\\n",
    "        .appName(\"Afeka Cloud programming final project\") \\\n",
    "        .config(\"spark.some.config.option\", \"some-value\") \\\n",
    "        .getOrCreate()"
   ]
  },
  {
   "cell_type": "markdown",
   "id": "6464b954",
   "metadata": {},
   "source": [
    "# Create Kafka producer and send the data"
   ]
  },
  {
   "cell_type": "code",
   "execution_count": null,
   "id": "8be0f6ce",
   "metadata": {},
   "outputs": [],
   "source": [
    "import gzip\n",
    "import pandas as pd\n",
    "import json\n",
    "import os\n",
    "\n",
    "df = pd.read_json(\n",
    "        './data/Movies_and_TV.json',\n",
    "        lines=True\n",
    "    )\n",
    "\n",
    "df.head(5)"
   ]
  },
  {
   "cell_type": "code",
   "execution_count": 8,
   "id": "5a84fe36",
   "metadata": {},
   "outputs": [],
   "source": [
    "def producer_do(asin):\n",
    "    producer = Producer({'bootstrap.servers': conf.BOOTSTRAP_SERVER})   \n",
    "    content_list = df[df['asin'] == asin][conf.REVIEWS_COLUMN_NAME]  \n",
    "    for line in content_list:\n",
    "        producer.produce(conf.KAFKA_TOKEN, key='review', value=line)\n",
    "    producer.flush()   "
   ]
  },
  {
   "cell_type": "code",
   "execution_count": null,
   "id": "b3560807",
   "metadata": {},
   "outputs": [],
   "source": [
    "# TODO: for test purpose, remove after \n",
    "producer_do('0001527665')\n",
    "# producer_do(asin)"
   ]
  }
 ],
 "metadata": {
  "kernelspec": {
   "display_name": "Python 3",
   "language": "python",
   "name": "python3"
  },
  "language_info": {
   "codemirror_mode": {
    "name": "ipython",
    "version": 3
   },
   "file_extension": ".py",
   "mimetype": "text/x-python",
   "name": "python",
   "nbconvert_exporter": "python",
   "pygments_lexer": "ipython3",
   "version": "3.8.8"
  }
 },
 "nbformat": 4,
 "nbformat_minor": 5
}
